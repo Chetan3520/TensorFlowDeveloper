{
  "nbformat": 4,
  "nbformat_minor": 0,
  "metadata": {
    "colab": {
      "provenance": [],
      "authorship_tag": "ABX9TyNeYIXaPwCe6F0GaO+MI8BT",
      "include_colab_link": true
    },
    "kernelspec": {
      "name": "python3",
      "display_name": "Python 3"
    },
    "language_info": {
      "name": "python"
    }
  },
  "cells": [
    {
      "cell_type": "markdown",
      "metadata": {
        "id": "view-in-github",
        "colab_type": "text"
      },
      "source": [
        "<a href=\"https://colab.research.google.com/github/Chetan3520/TensorFlowDeveloper/blob/main/TensorFlowDEV.ipynb\" target=\"_parent\"><img src=\"https://colab.research.google.com/assets/colab-badge.svg\" alt=\"Open In Colab\"/></a>"
      ]
    },
    {
      "cell_type": "markdown",
      "source": [
        "## **TensorFlow Devloper Practice**"
      ],
      "metadata": {
        "id": "HFxCr_aDa4Px"
      }
    },
    {
      "cell_type": "code",
      "execution_count": null,
      "metadata": {
        "id": "4i7LBTZnax5T"
      },
      "outputs": [],
      "source": [
        "import tensorflow as tf"
      ]
    },
    {
      "cell_type": "code",
      "source": [],
      "metadata": {
        "id": "ksvdTFw4cDb6"
      },
      "execution_count": null,
      "outputs": []
    },
    {
      "cell_type": "markdown",
      "source": [
        "# Creating the  tensor  with tf.constant()\n",
        "\n",
        "*   Scaler is zero dimentional Tensor\n",
        "*   vector is one dimentional Tensor\n"
      ],
      "metadata": {
        "id": "TGxXINSycEW1"
      }
    },
    {
      "cell_type": "code",
      "source": [
        "T1=tf.constant(12)"
      ],
      "metadata": {
        "id": "jSvvnB53bIQU"
      },
      "execution_count": null,
      "outputs": []
    },
    {
      "cell_type": "code",
      "source": [
        "T1.ndim"
      ],
      "metadata": {
        "colab": {
          "base_uri": "https://localhost:8080/"
        },
        "id": "BU5IGkjdcR0x",
        "outputId": "ccddfe1f-1c8e-4c10-db98-c4f37d2f63fb"
      },
      "execution_count": null,
      "outputs": [
        {
          "output_type": "execute_result",
          "data": {
            "text/plain": [
              "0"
            ]
          },
          "metadata": {},
          "execution_count": 7
        }
      ]
    },
    {
      "cell_type": "code",
      "source": [
        "T2=tf.constant([1,2,4])"
      ],
      "metadata": {
        "id": "KCBJcTRqcVO6"
      },
      "execution_count": null,
      "outputs": []
    },
    {
      "cell_type": "code",
      "source": [
        "T2.ndim"
      ],
      "metadata": {
        "colab": {
          "base_uri": "https://localhost:8080/"
        },
        "id": "-dVgwM9kcwdA",
        "outputId": "f21883f7-2b7f-40a9-e928-8b460603844a"
      },
      "execution_count": null,
      "outputs": [
        {
          "output_type": "execute_result",
          "data": {
            "text/plain": [
              "1"
            ]
          },
          "metadata": {},
          "execution_count": 10
        }
      ]
    },
    {
      "cell_type": "code",
      "source": [
        "T3=tf.constant([[1,2,4],\n",
        "               [1,5,3]])"
      ],
      "metadata": {
        "id": "Wh7ooauLc1gP"
      },
      "execution_count": null,
      "outputs": []
    },
    {
      "cell_type": "code",
      "source": [
        "T3.ndim\n",
        "\n"
      ],
      "metadata": {
        "colab": {
          "base_uri": "https://localhost:8080/"
        },
        "id": "2pkv9DUxdHuS",
        "outputId": "73ee914e-ad10-455a-9dd1-58245e55c5c2"
      },
      "execution_count": null,
      "outputs": [
        {
          "output_type": "execute_result",
          "data": {
            "text/plain": [
              "2"
            ]
          },
          "metadata": {},
          "execution_count": 13
        }
      ]
    },
    {
      "cell_type": "code",
      "source": [
        "# How about a tensor? (more than 2 dimensions, although, all of the above items are also technically tensors)\n",
        "tensor = tf.constant([[[1, 2, 3],\n",
        "                       [4, 5, 6]],\n",
        "                      [[7, 8, 9],\n",
        "                       [10, 11, 12]],\n",
        "                      [[13, 14, 15],\n",
        "                       [16, 17, 18]]])\n",
        "tensor"
      ],
      "metadata": {
        "colab": {
          "base_uri": "https://localhost:8080/"
        },
        "id": "JoShWtWFdt_D",
        "outputId": "e6a2a4cf-d919-4637-8ced-884e827d1503"
      },
      "execution_count": null,
      "outputs": [
        {
          "output_type": "execute_result",
          "data": {
            "text/plain": [
              "<tf.Tensor: shape=(3, 2, 3), dtype=int32, numpy=\n",
              "array([[[ 1,  2,  3],\n",
              "        [ 4,  5,  6]],\n",
              "\n",
              "       [[ 7,  8,  9],\n",
              "        [10, 11, 12]],\n",
              "\n",
              "       [[13, 14, 15],\n",
              "        [16, 17, 18]]], dtype=int32)>"
            ]
          },
          "metadata": {},
          "execution_count": 14
        }
      ]
    },
    {
      "cell_type": "markdown",
      "source": [
        "# **Creating Tensors with tf.Variable()**\n",
        "You can also (although you likely rarely will, because often, when working with data, tensors are created for you automatically) create tensors using tf.Variable().\n",
        "\n",
        "The difference between tf.Variable() and tf.constant() is tensors created with tf.constant() are immutable (can't be changed, can only be used to create a new tensor), where as, tensors created with tf.Variable() are mutable (can be changed)."
      ],
      "metadata": {
        "id": "e3LnPR8Petxv"
      }
    },
    {
      "cell_type": "code",
      "source": [
        "t1=tf.Variable([[1,2,4,5],[3,5,3,3]])\n",
        "t1"
      ],
      "metadata": {
        "colab": {
          "base_uri": "https://localhost:8080/"
        },
        "id": "xnya5w_Xes6q",
        "outputId": "2870db7c-4126-474b-c79c-03bc0d30f911"
      },
      "execution_count": null,
      "outputs": [
        {
          "output_type": "execute_result",
          "data": {
            "text/plain": [
              "<tf.Variable 'Variable:0' shape=(2, 4) dtype=int32, numpy=\n",
              "array([[1, 2, 4, 5],\n",
              "       [3, 5, 3, 3]], dtype=int32)>"
            ]
          },
          "metadata": {},
          "execution_count": 27
        }
      ]
    },
    {
      "cell_type": "code",
      "source": [],
      "metadata": {
        "id": "H6SDHhsrd317"
      },
      "execution_count": null,
      "outputs": []
    },
    {
      "cell_type": "code",
      "source": [
        "t1[1,1].assign(345)"
      ],
      "metadata": {
        "colab": {
          "base_uri": "https://localhost:8080/"
        },
        "id": "-UTKbux5fUWY",
        "outputId": "5e86e6ec-f3b3-4c5b-ed7f-894d11c169b7"
      },
      "execution_count": null,
      "outputs": [
        {
          "output_type": "execute_result",
          "data": {
            "text/plain": [
              "<tf.Variable 'UnreadVariable' shape=(2, 4) dtype=int32, numpy=\n",
              "array([[  1,   2,   4,   5],\n",
              "       [  3, 345,   3,   3]], dtype=int32)>"
            ]
          },
          "metadata": {},
          "execution_count": 28
        }
      ]
    },
    {
      "cell_type": "code",
      "source": [],
      "metadata": {
        "id": "iBje38ELf5UP"
      },
      "execution_count": null,
      "outputs": []
    },
    {
      "cell_type": "markdown",
      "source": [
        "# Creating the Random Tensor"
      ],
      "metadata": {
        "id": "BgB_2h4ZUUKU"
      }
    },
    {
      "cell_type": "code",
      "source": [
        "# Create a random number generator\n",
        "\n",
        "random_t=tf.random.Generator.from_seed(42)\n",
        "\n",
        "random_t.normal((3,2))"
      ],
      "metadata": {
        "colab": {
          "base_uri": "https://localhost:8080/"
        },
        "id": "ZDFpt_KPUYgV",
        "outputId": "4eb3237c-5f93-4e84-d0de-fb8735c719dd"
      },
      "execution_count": null,
      "outputs": [
        {
          "output_type": "execute_result",
          "data": {
            "text/plain": [
              "<tf.Tensor: shape=(3, 2), dtype=float32, numpy=\n",
              "array([[-0.7565803 , -0.06854702],\n",
              "       [ 0.07595026, -1.2573844 ],\n",
              "       [-0.23193763, -1.8107855 ]], dtype=float32)>"
            ]
          },
          "metadata": {},
          "execution_count": 7
        }
      ]
    },
    {
      "cell_type": "code",
      "source": [
        "generator = tf.random.Generator.from_seed(42)  # You can use any seed value\n",
        "\n",
        "# Generate a random tensor with uniform distribution\n",
        "shape = (2, 3)\n",
        "random_tensor = generator.uniform(shape, minval=0, maxval=1)\n",
        "\n",
        "print(random_tensor)"
      ],
      "metadata": {
        "colab": {
          "base_uri": "https://localhost:8080/"
        },
        "id": "EdB4QGwWXJzv",
        "outputId": "84a903fe-bef3-4f57-aeb6-4528c4a8bd64"
      },
      "execution_count": null,
      "outputs": [
        {
          "output_type": "stream",
          "name": "stdout",
          "text": [
            "tf.Tensor(\n",
            "[[0.7493447  0.73561966 0.45230794]\n",
            " [0.49039817 0.1889317  0.52027524]], shape=(2, 3), dtype=float32)\n"
          ]
        }
      ]
    },
    {
      "cell_type": "code",
      "source": [
        "#Exponential is not present in the Generator.\n",
        "\n",
        "# Create a random number generator\n",
        "generator = tf.random.Generator.from_seed(42)  # You can use any seed value\n",
        "\n",
        "# Generate a random tensor with exponential distribution\n",
        "shape = (2, 3)\n",
        "random_tensor = generator.exponential(shape, 1.0)  # The second parameter is the scale parameter\n",
        "\n",
        "print(random_tensor)"
      ],
      "metadata": {
        "colab": {
          "base_uri": "https://localhost:8080/",
          "height": 262
        },
        "id": "VdCubLtNczFS",
        "outputId": "5ff1aa33-a8dc-4816-9da4-3109ffe64e54"
      },
      "execution_count": null,
      "outputs": [
        {
          "output_type": "error",
          "ename": "AttributeError",
          "evalue": "'Generator' object has no attribute 'exponential'",
          "traceback": [
            "\u001b[0;31m---------------------------------------------------------------------------\u001b[0m",
            "\u001b[0;31mAttributeError\u001b[0m                            Traceback (most recent call last)",
            "\u001b[0;32m<ipython-input-17-165cd5818ae4>\u001b[0m in \u001b[0;36m<cell line: 8>\u001b[0;34m()\u001b[0m\n\u001b[1;32m      6\u001b[0m \u001b[0;31m# Generate a random tensor with exponential distribution\u001b[0m\u001b[0;34m\u001b[0m\u001b[0;34m\u001b[0m\u001b[0m\n\u001b[1;32m      7\u001b[0m \u001b[0mshape\u001b[0m \u001b[0;34m=\u001b[0m \u001b[0;34m(\u001b[0m\u001b[0;36m2\u001b[0m\u001b[0;34m,\u001b[0m \u001b[0;36m3\u001b[0m\u001b[0;34m)\u001b[0m\u001b[0;34m\u001b[0m\u001b[0;34m\u001b[0m\u001b[0m\n\u001b[0;32m----> 8\u001b[0;31m \u001b[0mrandom_tensor\u001b[0m \u001b[0;34m=\u001b[0m \u001b[0mgenerator\u001b[0m\u001b[0;34m.\u001b[0m\u001b[0mexponential\u001b[0m\u001b[0;34m(\u001b[0m\u001b[0mshape\u001b[0m\u001b[0;34m,\u001b[0m \u001b[0;36m1.0\u001b[0m\u001b[0;34m)\u001b[0m  \u001b[0;31m# The second parameter is the scale parameter\u001b[0m\u001b[0;34m\u001b[0m\u001b[0;34m\u001b[0m\u001b[0m\n\u001b[0m\u001b[1;32m      9\u001b[0m \u001b[0;34m\u001b[0m\u001b[0m\n\u001b[1;32m     10\u001b[0m \u001b[0mprint\u001b[0m\u001b[0;34m(\u001b[0m\u001b[0mrandom_tensor\u001b[0m\u001b[0;34m)\u001b[0m\u001b[0;34m\u001b[0m\u001b[0;34m\u001b[0m\u001b[0m\n",
            "\u001b[0;31mAttributeError\u001b[0m: 'Generator' object has no attribute 'exponential'"
          ]
        }
      ]
    },
    {
      "cell_type": "markdown",
      "source": [
        "# Shuffle the order of the elements in tensor\n",
        "\n",
        "\n",
        "*   To create the Randomness in the data we need to shuffle it sometimes to satisfy asssumption of the indepenedence of the data points\n",
        "\n",
        "tf.radom.shuffle(tensor_to_shuffle)\n"
      ],
      "metadata": {
        "id": "Au8xJbmDidvC"
      }
    },
    {
      "cell_type": "code",
      "source": [
        "not_shuffled=tf.constant([[10,3],[6,4],[9,4]]);not_shuffled"
      ],
      "metadata": {
        "colab": {
          "base_uri": "https://localhost:8080/"
        },
        "id": "of73q7XNgdbg",
        "outputId": "e257b9c3-2bf6-41d0-ab61-25178b0fe80c"
      },
      "execution_count": null,
      "outputs": [
        {
          "output_type": "execute_result",
          "data": {
            "text/plain": [
              "<tf.Tensor: shape=(3, 2), dtype=int32, numpy=\n",
              "array([[10,  3],\n",
              "       [ 6,  4],\n",
              "       [ 9,  4]], dtype=int32)>"
            ]
          },
          "metadata": {},
          "execution_count": 35
        }
      ]
    },
    {
      "cell_type": "code",
      "source": [
        "not_shuffled.ndim"
      ],
      "metadata": {
        "colab": {
          "base_uri": "https://localhost:8080/"
        },
        "id": "VwML-03ojdis",
        "outputId": "cf0d44f4-ba68-42d1-ff36-e6ad0515183b"
      },
      "execution_count": null,
      "outputs": [
        {
          "output_type": "execute_result",
          "data": {
            "text/plain": [
              "2"
            ]
          },
          "metadata": {},
          "execution_count": 36
        }
      ]
    },
    {
      "cell_type": "code",
      "source": [
        "tf.random.shuffle(not_shuffled)"
      ],
      "metadata": {
        "colab": {
          "base_uri": "https://localhost:8080/"
        },
        "id": "tzkLOKoQjnBG",
        "outputId": "47b47063-a105-4c98-ee45-bb2783e2f2f9"
      },
      "execution_count": null,
      "outputs": [
        {
          "output_type": "execute_result",
          "data": {
            "text/plain": [
              "<tf.Tensor: shape=(3, 2), dtype=int32, numpy=\n",
              "array([[ 6,  4],\n",
              "       [10,  3],\n",
              "       [ 9,  4]], dtype=int32)>"
            ]
          },
          "metadata": {},
          "execution_count": 47
        }
      ]
    },
    {
      "cell_type": "code",
      "source": [
        "tf.random.shuffle(not_shuffled,seed=40) #order not fixed"
      ],
      "metadata": {
        "colab": {
          "base_uri": "https://localhost:8080/"
        },
        "id": "zC0DnoNZm_Nq",
        "outputId": "45473ed7-1ff8-4fe2-eeac-33f0b99406ff"
      },
      "execution_count": null,
      "outputs": [
        {
          "output_type": "execute_result",
          "data": {
            "text/plain": [
              "<tf.Tensor: shape=(3, 2), dtype=int32, numpy=\n",
              "array([[10,  3],\n",
              "       [ 6,  4],\n",
              "       [ 9,  4]], dtype=int32)>"
            ]
          },
          "metadata": {},
          "execution_count": 48
        }
      ]
    },
    {
      "cell_type": "code",
      "source": [],
      "metadata": {
        "id": "ZMK9EAH0m_vM"
      },
      "execution_count": null,
      "outputs": []
    },
    {
      "cell_type": "code",
      "source": [
        "#to fix the Random Order\n",
        "tf.random.set_seed(40)\n",
        "tf.random.shuffle(not_shuffled,seed=40)"
      ],
      "metadata": {
        "colab": {
          "base_uri": "https://localhost:8080/"
        },
        "id": "zTNPbZB2lU7g",
        "outputId": "9344de28-f308-4e65-d091-50c09a348ed1"
      },
      "execution_count": null,
      "outputs": [
        {
          "output_type": "execute_result",
          "data": {
            "text/plain": [
              "<tf.Tensor: shape=(3, 2), dtype=int32, numpy=\n",
              "array([[ 9,  4],\n",
              "       [10,  3],\n",
              "       [ 6,  4]], dtype=int32)>"
            ]
          },
          "metadata": {},
          "execution_count": 49
        }
      ]
    },
    {
      "cell_type": "code",
      "source": [
        "T2=tf.constant([[1,24,4],[1,23,44]]);T2"
      ],
      "metadata": {
        "colab": {
          "base_uri": "https://localhost:8080/"
        },
        "id": "vqkS95PZm7eM",
        "outputId": "2eccc071-47fb-4260-80d4-40621b8a8e60"
      },
      "execution_count": null,
      "outputs": [
        {
          "output_type": "execute_result",
          "data": {
            "text/plain": [
              "<tf.Tensor: shape=(2, 3), dtype=int32, numpy=\n",
              "array([[ 1, 24,  4],\n",
              "       [ 1, 23, 44]], dtype=int32)>"
            ]
          },
          "metadata": {},
          "execution_count": 52
        }
      ]
    },
    {
      "cell_type": "code",
      "source": [
        "tf.random.shuffle(T2)"
      ],
      "metadata": {
        "colab": {
          "base_uri": "https://localhost:8080/"
        },
        "id": "DZJtoHnin0-5",
        "outputId": "f23f5e62-884c-4d4b-8b46-58d55cc2ac59"
      },
      "execution_count": null,
      "outputs": [
        {
          "output_type": "execute_result",
          "data": {
            "text/plain": [
              "<tf.Tensor: shape=(2, 3), dtype=int32, numpy=\n",
              "array([[ 1, 23, 44],\n",
              "       [ 1, 24,  4]], dtype=int32)>"
            ]
          },
          "metadata": {},
          "execution_count": 53
        }
      ]
    },
    {
      "cell_type": "code",
      "source": [],
      "metadata": {
        "id": "ZzyMZ1O4n6ib"
      },
      "execution_count": null,
      "outputs": []
    },
    {
      "cell_type": "markdown",
      "source": [
        "# Other way to make Tensors\n",
        "numpy"
      ],
      "metadata": {
        "id": "IrmSCT9ApqJP"
      }
    },
    {
      "cell_type": "code",
      "source": [
        "#tensor of ones\n",
        "tf.ones(10)"
      ],
      "metadata": {
        "colab": {
          "base_uri": "https://localhost:8080/"
        },
        "id": "golp1Yv2ptLw",
        "outputId": "0d16ab3c-5de0-4965-9406-6db5381dcaf0"
      },
      "execution_count": null,
      "outputs": [
        {
          "output_type": "execute_result",
          "data": {
            "text/plain": [
              "<tf.Tensor: shape=(10,), dtype=float32, numpy=array([1., 1., 1., 1., 1., 1., 1., 1., 1., 1.], dtype=float32)>"
            ]
          },
          "metadata": {},
          "execution_count": 54
        }
      ]
    },
    {
      "cell_type": "code",
      "source": [
        "#tensor of zeros\n",
        "tf.zeros(10)"
      ],
      "metadata": {
        "colab": {
          "base_uri": "https://localhost:8080/"
        },
        "id": "z8o3UjBNp06C",
        "outputId": "51350b68-77e4-4e4b-b37e-a7c703896ad8"
      },
      "execution_count": null,
      "outputs": [
        {
          "output_type": "execute_result",
          "data": {
            "text/plain": [
              "<tf.Tensor: shape=(10,), dtype=float32, numpy=array([0., 0., 0., 0., 0., 0., 0., 0., 0., 0.], dtype=float32)>"
            ]
          },
          "metadata": {},
          "execution_count": 55
        }
      ]
    },
    {
      "cell_type": "markdown",
      "source": [
        "# **Tensor from Nunpy Array**\n",
        "\n",
        "*   tensorflow tensors can be run on GPU much faster for numerical computting\n",
        "\n"
      ],
      "metadata": {
        "id": "Zzq33TNcqYTf"
      }
    },
    {
      "cell_type": "code",
      "source": [
        "import numpy as np\n",
        "numpy_A=np.arange(1,101,1,'int')"
      ],
      "metadata": {
        "id": "lik6xIOPqR7H"
      },
      "execution_count": null,
      "outputs": []
    },
    {
      "cell_type": "code",
      "source": [
        "T=tf.constant(numpy_A);T"
      ],
      "metadata": {
        "colab": {
          "base_uri": "https://localhost:8080/"
        },
        "id": "Mlj1_TdEs4w-",
        "outputId": "02a98692-db6b-471e-ffb3-17212d45fe56"
      },
      "execution_count": null,
      "outputs": [
        {
          "output_type": "execute_result",
          "data": {
            "text/plain": [
              "<tf.Tensor: shape=(100,), dtype=int64, numpy=\n",
              "array([  1,   2,   3,   4,   5,   6,   7,   8,   9,  10,  11,  12,  13,\n",
              "        14,  15,  16,  17,  18,  19,  20,  21,  22,  23,  24,  25,  26,\n",
              "        27,  28,  29,  30,  31,  32,  33,  34,  35,  36,  37,  38,  39,\n",
              "        40,  41,  42,  43,  44,  45,  46,  47,  48,  49,  50,  51,  52,\n",
              "        53,  54,  55,  56,  57,  58,  59,  60,  61,  62,  63,  64,  65,\n",
              "        66,  67,  68,  69,  70,  71,  72,  73,  74,  75,  76,  77,  78,\n",
              "        79,  80,  81,  82,  83,  84,  85,  86,  87,  88,  89,  90,  91,\n",
              "        92,  93,  94,  95,  96,  97,  98,  99, 100])>"
            ]
          },
          "metadata": {},
          "execution_count": 61
        }
      ]
    },
    {
      "cell_type": "code",
      "source": [
        "T2=tf.constant(numpy_A,shape=(2,5,10));T2"
      ],
      "metadata": {
        "colab": {
          "base_uri": "https://localhost:8080/"
        },
        "id": "ioEiVpmktVY1",
        "outputId": "19b89867-fc2d-495e-c405-677496ac3aaa"
      },
      "execution_count": null,
      "outputs": [
        {
          "output_type": "execute_result",
          "data": {
            "text/plain": [
              "<tf.Tensor: shape=(2, 5, 10), dtype=int64, numpy=\n",
              "array([[[  1,   2,   3,   4,   5,   6,   7,   8,   9,  10],\n",
              "        [ 11,  12,  13,  14,  15,  16,  17,  18,  19,  20],\n",
              "        [ 21,  22,  23,  24,  25,  26,  27,  28,  29,  30],\n",
              "        [ 31,  32,  33,  34,  35,  36,  37,  38,  39,  40],\n",
              "        [ 41,  42,  43,  44,  45,  46,  47,  48,  49,  50]],\n",
              "\n",
              "       [[ 51,  52,  53,  54,  55,  56,  57,  58,  59,  60],\n",
              "        [ 61,  62,  63,  64,  65,  66,  67,  68,  69,  70],\n",
              "        [ 71,  72,  73,  74,  75,  76,  77,  78,  79,  80],\n",
              "        [ 81,  82,  83,  84,  85,  86,  87,  88,  89,  90],\n",
              "        [ 91,  92,  93,  94,  95,  96,  97,  98,  99, 100]]])>"
            ]
          },
          "metadata": {},
          "execution_count": 65
        }
      ]
    },
    {
      "cell_type": "markdown",
      "source": [
        "# Getting Information from Tensors\n",
        "\n",
        "*   shape\n",
        "*   rank\n",
        "*  Axis or dimention\n",
        "*   size\n",
        "\n",
        "\n"
      ],
      "metadata": {
        "id": "oEhcwhwFu8qI"
      }
    },
    {
      "cell_type": "code",
      "source": [
        "T2.shape  #shape"
      ],
      "metadata": {
        "colab": {
          "base_uri": "https://localhost:8080/"
        },
        "id": "SLhxLvI9u7yc",
        "outputId": "a51a7047-8cfe-4abe-bcf0-1dcb8e87b59a"
      },
      "execution_count": null,
      "outputs": [
        {
          "output_type": "execute_result",
          "data": {
            "text/plain": [
              "TensorShape([2, 5, 10])"
            ]
          },
          "metadata": {},
          "execution_count": 66
        }
      ]
    },
    {
      "cell_type": "code",
      "source": [
        "T2.ndim #rank"
      ],
      "metadata": {
        "colab": {
          "base_uri": "https://localhost:8080/"
        },
        "id": "f59K5Ry3t8Dj",
        "outputId": "c56442c6-3ac6-4770-b1b1-223821f428eb"
      },
      "execution_count": null,
      "outputs": [
        {
          "output_type": "execute_result",
          "data": {
            "text/plain": [
              "3"
            ]
          },
          "metadata": {},
          "execution_count": 67
        }
      ]
    },
    {
      "cell_type": "code",
      "source": [
        "tf.size(T2)"
      ],
      "metadata": {
        "colab": {
          "base_uri": "https://localhost:8080/"
        },
        "id": "YeipT3dAvl7N",
        "outputId": "3538c80d-6be1-4db8-9d7f-1a29175c68c7"
      },
      "execution_count": null,
      "outputs": [
        {
          "output_type": "execute_result",
          "data": {
            "text/plain": [
              "<tf.Tensor: shape=(), dtype=int32, numpy=100>"
            ]
          },
          "metadata": {},
          "execution_count": 70
        }
      ]
    },
    {
      "cell_type": "code",
      "source": [
        "T3=tf.zeros(shape=[2,3,4,4]);T3"
      ],
      "metadata": {
        "colab": {
          "base_uri": "https://localhost:8080/"
        },
        "id": "xLG_jpTJv1sH",
        "outputId": "9bf6d456-826d-4dc9-f937-921f69084365"
      },
      "execution_count": null,
      "outputs": [
        {
          "output_type": "execute_result",
          "data": {
            "text/plain": [
              "<tf.Tensor: shape=(2, 3, 4, 4), dtype=float32, numpy=\n",
              "array([[[[0., 0., 0., 0.],\n",
              "         [0., 0., 0., 0.],\n",
              "         [0., 0., 0., 0.],\n",
              "         [0., 0., 0., 0.]],\n",
              "\n",
              "        [[0., 0., 0., 0.],\n",
              "         [0., 0., 0., 0.],\n",
              "         [0., 0., 0., 0.],\n",
              "         [0., 0., 0., 0.]],\n",
              "\n",
              "        [[0., 0., 0., 0.],\n",
              "         [0., 0., 0., 0.],\n",
              "         [0., 0., 0., 0.],\n",
              "         [0., 0., 0., 0.]]],\n",
              "\n",
              "\n",
              "       [[[0., 0., 0., 0.],\n",
              "         [0., 0., 0., 0.],\n",
              "         [0., 0., 0., 0.],\n",
              "         [0., 0., 0., 0.]],\n",
              "\n",
              "        [[0., 0., 0., 0.],\n",
              "         [0., 0., 0., 0.],\n",
              "         [0., 0., 0., 0.],\n",
              "         [0., 0., 0., 0.]],\n",
              "\n",
              "        [[0., 0., 0., 0.],\n",
              "         [0., 0., 0., 0.],\n",
              "         [0., 0., 0., 0.],\n",
              "         [0., 0., 0., 0.]]]], dtype=float32)>"
            ]
          },
          "metadata": {},
          "execution_count": 72
        }
      ]
    },
    {
      "cell_type": "code",
      "source": [
        "T3.shape,T3.ndim,tf.size(T3)"
      ],
      "metadata": {
        "colab": {
          "base_uri": "https://localhost:8080/"
        },
        "id": "UTinRmUzxkwv",
        "outputId": "0c104443-8c16-4d83-9427-e23f3a48bd73"
      },
      "execution_count": null,
      "outputs": [
        {
          "output_type": "execute_result",
          "data": {
            "text/plain": [
              "(TensorShape([2, 3, 4, 4]), 4, <tf.Tensor: shape=(), dtype=int32, numpy=96>)"
            ]
          },
          "metadata": {},
          "execution_count": 73
        }
      ]
    },
    {
      "cell_type": "code",
      "source": [
        "2*3*4*4"
      ],
      "metadata": {
        "colab": {
          "base_uri": "https://localhost:8080/"
        },
        "id": "FLaLJVoTx7vb",
        "outputId": "8f2e1ad6-9aa0-4ec7-dd30-0c03a5dfae40"
      },
      "execution_count": null,
      "outputs": [
        {
          "output_type": "execute_result",
          "data": {
            "text/plain": [
              "96"
            ]
          },
          "metadata": {},
          "execution_count": 74
        }
      ]
    },
    {
      "cell_type": "code",
      "source": [
        "print(\"Datatype of the every element:\",T3.dtype)\n",
        "print(\"-----------------------------------------------------\")\n",
        "print(\"Number of the dimention(rank):\",T3.ndim)\n",
        "print(\"-----------------------------------------------------\")\n",
        "print(\"Shape of the Tensor:\",T3.shape)\n",
        "print(\"-----------------------------------------------------\")\n",
        "print(\"Elements along the 0 axis:\",T3.shape[0])\n",
        "print(\"-----------------------------------------------------\")\n",
        "print(\"Elements along the last axis:\",T3[-1])\n",
        "print(\"-----------------------------------------------------\")\n",
        "print(\"Total numner of elments in our tensor:\",tf.size(T3))"
      ],
      "metadata": {
        "colab": {
          "base_uri": "https://localhost:8080/"
        },
        "id": "qmhz4aMUyIVa",
        "outputId": "937436e8-cc93-4b1a-b9ff-43eb0d5d0302"
      },
      "execution_count": null,
      "outputs": [
        {
          "output_type": "stream",
          "name": "stdout",
          "text": [
            "Datatype of the every element: <dtype: 'float32'>\n",
            "-----------------------------------------------------\n",
            "Number of the dimention(rank): 4\n",
            "-----------------------------------------------------\n",
            "Shape of the Tensor: (2, 3, 4, 4)\n",
            "-----------------------------------------------------\n",
            "Elements along the 0 axis: 2\n",
            "-----------------------------------------------------\n",
            "Elements along the last axis: tf.Tensor(\n",
            "[[[0. 0. 0. 0.]\n",
            "  [0. 0. 0. 0.]\n",
            "  [0. 0. 0. 0.]\n",
            "  [0. 0. 0. 0.]]\n",
            "\n",
            " [[0. 0. 0. 0.]\n",
            "  [0. 0. 0. 0.]\n",
            "  [0. 0. 0. 0.]\n",
            "  [0. 0. 0. 0.]]\n",
            "\n",
            " [[0. 0. 0. 0.]\n",
            "  [0. 0. 0. 0.]\n",
            "  [0. 0. 0. 0.]\n",
            "  [0. 0. 0. 0.]]], shape=(3, 4, 4), dtype=float32)\n",
            "-----------------------------------------------------\n",
            "Total numner of elments in our tensor: tf.Tensor(96, shape=(), dtype=int32)\n"
          ]
        }
      ]
    },
    {
      "cell_type": "markdown",
      "source": [],
      "metadata": {
        "id": "GjeQmAjRzj1p"
      }
    },
    {
      "cell_type": "markdown",
      "source": [
        "# Indexing the Tensors"
      ],
      "metadata": {
        "id": "E1fCSlAAzkDv"
      }
    },
    {
      "cell_type": "code",
      "source": [
        "T3"
      ],
      "metadata": {
        "colab": {
          "base_uri": "https://localhost:8080/"
        },
        "id": "4Jf3pfI9ywaJ",
        "outputId": "90f4e1e4-8974-4e0a-ff68-795db5608eef"
      },
      "execution_count": null,
      "outputs": [
        {
          "output_type": "execute_result",
          "data": {
            "text/plain": [
              "<tf.Tensor: shape=(2, 3, 4, 4), dtype=float32, numpy=\n",
              "array([[[[0., 0., 0., 0.],\n",
              "         [0., 0., 0., 0.],\n",
              "         [0., 0., 0., 0.],\n",
              "         [0., 0., 0., 0.]],\n",
              "\n",
              "        [[0., 0., 0., 0.],\n",
              "         [0., 0., 0., 0.],\n",
              "         [0., 0., 0., 0.],\n",
              "         [0., 0., 0., 0.]],\n",
              "\n",
              "        [[0., 0., 0., 0.],\n",
              "         [0., 0., 0., 0.],\n",
              "         [0., 0., 0., 0.],\n",
              "         [0., 0., 0., 0.]]],\n",
              "\n",
              "\n",
              "       [[[0., 0., 0., 0.],\n",
              "         [0., 0., 0., 0.],\n",
              "         [0., 0., 0., 0.],\n",
              "         [0., 0., 0., 0.]],\n",
              "\n",
              "        [[0., 0., 0., 0.],\n",
              "         [0., 0., 0., 0.],\n",
              "         [0., 0., 0., 0.],\n",
              "         [0., 0., 0., 0.]],\n",
              "\n",
              "        [[0., 0., 0., 0.],\n",
              "         [0., 0., 0., 0.],\n",
              "         [0., 0., 0., 0.],\n",
              "         [0., 0., 0., 0.]]]], dtype=float32)>"
            ]
          },
          "metadata": {},
          "execution_count": 81
        }
      ]
    },
    {
      "cell_type": "code",
      "source": [
        "#Getting first two elments of the each dimentions\n",
        "T3[:2,:2,:2,:2]"
      ],
      "metadata": {
        "colab": {
          "base_uri": "https://localhost:8080/"
        },
        "id": "wzmUn1zS1b-m",
        "outputId": "96b2fb38-aff0-4bf6-9e41-0eec548c6635"
      },
      "execution_count": null,
      "outputs": [
        {
          "output_type": "execute_result",
          "data": {
            "text/plain": [
              "<tf.Tensor: shape=(2, 2, 2, 2), dtype=float32, numpy=\n",
              "array([[[[0., 0.],\n",
              "         [0., 0.]],\n",
              "\n",
              "        [[0., 0.],\n",
              "         [0., 0.]]],\n",
              "\n",
              "\n",
              "       [[[0., 0.],\n",
              "         [0., 0.]],\n",
              "\n",
              "        [[0., 0.],\n",
              "         [0., 0.]]]], dtype=float32)>"
            ]
          },
          "metadata": {},
          "execution_count": 82
        }
      ]
    },
    {
      "cell_type": "code",
      "source": [
        "#Get first element from  each dimention from each index except for the final one\n"
      ],
      "metadata": {
        "id": "M_wpHz001qau"
      },
      "execution_count": null,
      "outputs": []
    },
    {
      "cell_type": "code",
      "source": [
        "T3.shape"
      ],
      "metadata": {
        "colab": {
          "base_uri": "https://localhost:8080/"
        },
        "id": "hFTYSr-g2Oqv",
        "outputId": "bb7a6809-957e-493b-b76b-4d7f1816ce49"
      },
      "execution_count": null,
      "outputs": [
        {
          "output_type": "execute_result",
          "data": {
            "text/plain": [
              "TensorShape([2, 3, 4, 4])"
            ]
          },
          "metadata": {},
          "execution_count": 85
        }
      ]
    },
    {
      "cell_type": "code",
      "source": [
        "T3[:1,:1,:1]"
      ],
      "metadata": {
        "colab": {
          "base_uri": "https://localhost:8080/"
        },
        "id": "2UTrdQqK2oMW",
        "outputId": "3fbfafb4-ebec-4f7f-8da0-34c771aa3068"
      },
      "execution_count": null,
      "outputs": [
        {
          "output_type": "execute_result",
          "data": {
            "text/plain": [
              "<tf.Tensor: shape=(1, 1, 1, 4), dtype=float32, numpy=array([[[[0., 0., 0., 0.]]]], dtype=float32)>"
            ]
          },
          "metadata": {},
          "execution_count": 86
        }
      ]
    },
    {
      "cell_type": "code",
      "source": [
        "#exept second last\n",
        "T3[:1,:1,:,:1]"
      ],
      "metadata": {
        "colab": {
          "base_uri": "https://localhost:8080/"
        },
        "id": "wwrt7j7h2vaU",
        "outputId": "55c82731-9c47-4c9e-d48a-fdf60992c18a"
      },
      "execution_count": null,
      "outputs": [
        {
          "output_type": "execute_result",
          "data": {
            "text/plain": [
              "<tf.Tensor: shape=(1, 1, 4, 1), dtype=float32, numpy=\n",
              "array([[[[0.],\n",
              "         [0.],\n",
              "         [0.],\n",
              "         [0.]]]], dtype=float32)>"
            ]
          },
          "metadata": {},
          "execution_count": 87
        }
      ]
    },
    {
      "cell_type": "code",
      "source": [
        "#rank two tensor\n",
        "rank_2_tens=tf.constant([[1,2,3,4],[3,4,5,6]])"
      ],
      "metadata": {
        "id": "vAfVUZiW25V6"
      },
      "execution_count": null,
      "outputs": []
    },
    {
      "cell_type": "code",
      "source": [
        "rank_2_tens.ndim"
      ],
      "metadata": {
        "colab": {
          "base_uri": "https://localhost:8080/"
        },
        "id": "uzow94eK3xaS",
        "outputId": "f46c9374-04e1-481b-a0c2-4b01e99e6a4e"
      },
      "execution_count": null,
      "outputs": [
        {
          "output_type": "execute_result",
          "data": {
            "text/plain": [
              "2"
            ]
          },
          "metadata": {},
          "execution_count": 89
        }
      ]
    },
    {
      "cell_type": "code",
      "source": [
        "rank_2_tens.shape\n"
      ],
      "metadata": {
        "colab": {
          "base_uri": "https://localhost:8080/"
        },
        "id": "7hNHnFRi4nvj",
        "outputId": "e95be0d3-ee97-4c61-9539-953e5637859d"
      },
      "execution_count": null,
      "outputs": [
        {
          "output_type": "execute_result",
          "data": {
            "text/plain": [
              "TensorShape([2, 4])"
            ]
          },
          "metadata": {},
          "execution_count": 93
        }
      ]
    },
    {
      "cell_type": "code",
      "source": [
        "rank_2_tens"
      ],
      "metadata": {
        "colab": {
          "base_uri": "https://localhost:8080/"
        },
        "id": "8kMHBmQh5IR8",
        "outputId": "6079bf9b-a6fb-4857-cef4-53ffb10cc567"
      },
      "execution_count": null,
      "outputs": [
        {
          "output_type": "execute_result",
          "data": {
            "text/plain": [
              "<tf.Tensor: shape=(2, 4), dtype=int32, numpy=\n",
              "array([[1, 2, 3, 4],\n",
              "       [3, 4, 5, 6]], dtype=int32)>"
            ]
          },
          "metadata": {},
          "execution_count": 95
        }
      ]
    },
    {
      "cell_type": "code",
      "source": [
        "#get the last element of the each of the row  of rank_2_tens\n",
        "rank_2_tens[:,-1]\n"
      ],
      "metadata": {
        "colab": {
          "base_uri": "https://localhost:8080/"
        },
        "id": "zsC_Sjxm3zov",
        "outputId": "9c6efc51-cc55-4ce1-b27a-929fc9d3dee9"
      },
      "execution_count": null,
      "outputs": [
        {
          "output_type": "execute_result",
          "data": {
            "text/plain": [
              "<tf.Tensor: shape=(2,), dtype=int32, numpy=array([4, 6], dtype=int32)>"
            ]
          },
          "metadata": {},
          "execution_count": 96
        }
      ]
    },
    {
      "cell_type": "markdown",
      "source": [
        "Addding Extra Dimention two rank 2 tensor\n",
        "(Expand Dimention)"
      ],
      "metadata": {
        "id": "GtYT4s-O6Dze"
      }
    },
    {
      "cell_type": "code",
      "source": [
        "rank_3_tensor=rank_2_tens[...,tf.newaxis];rank_3_tensor # '...' indicates previous all axis here axis 1 and 2"
      ],
      "metadata": {
        "colab": {
          "base_uri": "https://localhost:8080/"
        },
        "id": "SviW0INf5_bV",
        "outputId": "1a5fc302-3488-4435-ea1c-7321e525541b"
      },
      "execution_count": null,
      "outputs": [
        {
          "output_type": "execute_result",
          "data": {
            "text/plain": [
              "<tf.Tensor: shape=(2, 4, 1), dtype=int32, numpy=\n",
              "array([[[1],\n",
              "        [2],\n",
              "        [3],\n",
              "        [4]],\n",
              "\n",
              "       [[3],\n",
              "        [4],\n",
              "        [5],\n",
              "        [6]]], dtype=int32)>"
            ]
          },
          "metadata": {},
          "execution_count": 100
        }
      ]
    },
    {
      "cell_type": "markdown",
      "source": [
        "# OR"
      ],
      "metadata": {
        "id": "DAbyZURQ8pHg"
      }
    },
    {
      "cell_type": "code",
      "source": [
        "tf.expand_dims(rank_2_tens,axis=-1) #-1 means expand the last axis"
      ],
      "metadata": {
        "colab": {
          "base_uri": "https://localhost:8080/"
        },
        "id": "LzrwKsNx4Q1W",
        "outputId": "22d7d382-10c7-4394-9eaf-0a4400b258d2"
      },
      "execution_count": null,
      "outputs": [
        {
          "output_type": "execute_result",
          "data": {
            "text/plain": [
              "<tf.Tensor: shape=(2, 4, 1), dtype=int32, numpy=\n",
              "array([[[1],\n",
              "        [2],\n",
              "        [3],\n",
              "        [4]],\n",
              "\n",
              "       [[3],\n",
              "        [4],\n",
              "        [5],\n",
              "        [6]]], dtype=int32)>"
            ]
          },
          "metadata": {},
          "execution_count": 102
        }
      ]
    },
    {
      "cell_type": "markdown",
      "source": [
        "# [Manipulation Tensors]/ Tensor Operations"
      ],
      "metadata": {
        "id": "OVZpGRP39XiT"
      }
    },
    {
      "cell_type": "markdown",
      "source": [
        "**Basic Operations**\n",
        "\n"
      ],
      "metadata": {
        "id": "Xw-Wd7Ii9m3r"
      }
    },
    {
      "cell_type": "code",
      "source": [
        "tensor=tf.constant(np.arange(4),shape=(2,2));tensor"
      ],
      "metadata": {
        "colab": {
          "base_uri": "https://localhost:8080/"
        },
        "id": "2TpbtLQh_QSJ",
        "outputId": "ecf36bf8-8dd1-4d45-b796-639740f5852d"
      },
      "execution_count": null,
      "outputs": [
        {
          "output_type": "execute_result",
          "data": {
            "text/plain": [
              "<tf.Tensor: shape=(2, 2), dtype=int64, numpy=\n",
              "array([[0, 1],\n",
              "       [2, 3]])>"
            ]
          },
          "metadata": {},
          "execution_count": 112
        }
      ]
    },
    {
      "cell_type": "code",
      "source": [
        "#Adding values to the tensors\n",
        "tensor+10"
      ],
      "metadata": {
        "colab": {
          "base_uri": "https://localhost:8080/"
        },
        "id": "pPUHcYwG8yPu",
        "outputId": "e25467d9-df55-45ee-acda-dd7e40f78be3"
      },
      "execution_count": null,
      "outputs": [
        {
          "output_type": "execute_result",
          "data": {
            "text/plain": [
              "<tf.Tensor: shape=(2, 2), dtype=int64, numpy=\n",
              "array([[10, 11],\n",
              "       [12, 13]])>"
            ]
          },
          "metadata": {},
          "execution_count": 113
        }
      ]
    },
    {
      "cell_type": "code",
      "source": [
        "tensor*2  #mult"
      ],
      "metadata": {
        "colab": {
          "base_uri": "https://localhost:8080/"
        },
        "id": "niPa4Eh0-oxV",
        "outputId": "4397fe77-4f3f-44ae-85d0-7393709c631a"
      },
      "execution_count": null,
      "outputs": [
        {
          "output_type": "execute_result",
          "data": {
            "text/plain": [
              "<tf.Tensor: shape=(2, 2), dtype=int64, numpy=\n",
              "array([[0, 2],\n",
              "       [4, 6]])>"
            ]
          },
          "metadata": {},
          "execution_count": 115
        }
      ]
    },
    {
      "cell_type": "code",
      "source": [
        "tensor/2 #devide"
      ],
      "metadata": {
        "colab": {
          "base_uri": "https://localhost:8080/"
        },
        "id": "vNQuUf6C_WlW",
        "outputId": "e262f692-5517-4809-8dff-c6d8e9c30de4"
      },
      "execution_count": null,
      "outputs": [
        {
          "output_type": "execute_result",
          "data": {
            "text/plain": [
              "<tf.Tensor: shape=(2, 2), dtype=float64, numpy=\n",
              "array([[0. , 0.5],\n",
              "       [1. , 1.5]])>"
            ]
          },
          "metadata": {},
          "execution_count": 116
        }
      ]
    },
    {
      "cell_type": "code",
      "source": [
        "tensor-1 #sub\n"
      ],
      "metadata": {
        "colab": {
          "base_uri": "https://localhost:8080/"
        },
        "id": "WnmNecHS-JQh",
        "outputId": "1ab293d3-0d6b-4a8d-be2f-09634d7266a3"
      },
      "execution_count": null,
      "outputs": [
        {
          "output_type": "execute_result",
          "data": {
            "text/plain": [
              "<tf.Tensor: shape=(2, 2), dtype=int64, numpy=\n",
              "array([[-1,  0],\n",
              "       [ 1,  2]])>"
            ]
          },
          "metadata": {},
          "execution_count": 114
        }
      ]
    },
    {
      "cell_type": "code",
      "source": [
        "tf.multiply(tensor,tensor-1)"
      ],
      "metadata": {
        "colab": {
          "base_uri": "https://localhost:8080/"
        },
        "id": "aqdte05s_YJK",
        "outputId": "2f55a903-0397-493d-9b2a-562b435ac193"
      },
      "execution_count": null,
      "outputs": [
        {
          "output_type": "execute_result",
          "data": {
            "text/plain": [
              "<tf.Tensor: shape=(2, 2), dtype=int64, numpy=\n",
              "array([[0, 0],\n",
              "       [2, 6]])>"
            ]
          },
          "metadata": {},
          "execution_count": 119
        }
      ]
    },
    {
      "cell_type": "markdown",
      "source": [
        "# Matrix Multiplication\n",
        "*   Condition : No of row of one matrix = no of columns of the other matrix (Vice-Versa)\n",
        "\n",
        "\n",
        "Using\n",
        "\n",
        "\n",
        "1.   Element to Element multiplication\n",
        "*   '*'  :  python operator\n",
        "*   multiply  : tensorflow\n",
        "2.   Algebric Multiplication\n",
        "*   tensordot: matmul\n",
        "*   tensordot: tensorflow\n",
        "\n",
        "\n",
        "\n",
        "\n",
        "\n",
        "\n",
        "\n",
        "\n",
        "\n",
        "\n",
        "\n",
        "\n"
      ],
      "metadata": {
        "id": "kxSZMj_4GzYf"
      }
    },
    {
      "cell_type": "code",
      "source": [
        "tensor,tensor+1"
      ],
      "metadata": {
        "colab": {
          "base_uri": "https://localhost:8080/"
        },
        "id": "Htg6yw9fAuhy",
        "outputId": "53c29699-7b11-4701-f3d9-9b1f0f0612de"
      },
      "execution_count": null,
      "outputs": [
        {
          "output_type": "execute_result",
          "data": {
            "text/plain": [
              "(<tf.Tensor: shape=(2, 2), dtype=int64, numpy=\n",
              " array([[0, 1],\n",
              "        [2, 3]])>,\n",
              " <tf.Tensor: shape=(2, 2), dtype=int64, numpy=\n",
              " array([[1, 2],\n",
              "        [3, 4]])>)"
            ]
          },
          "metadata": {},
          "execution_count": 144
        }
      ]
    },
    {
      "cell_type": "code",
      "source": [
        "tensor*tensor+1 #Element wise"
      ],
      "metadata": {
        "colab": {
          "base_uri": "https://localhost:8080/"
        },
        "id": "w8VeVt-_H-iX",
        "outputId": "8f69b323-f3f5-4395-b6fc-1e5b42dd9468"
      },
      "execution_count": null,
      "outputs": [
        {
          "output_type": "execute_result",
          "data": {
            "text/plain": [
              "<tf.Tensor: shape=(2, 2), dtype=int64, numpy=\n",
              "array([[ 1,  2],\n",
              "       [ 5, 10]])>"
            ]
          },
          "metadata": {},
          "execution_count": 123
        }
      ]
    },
    {
      "cell_type": "code",
      "source": [
        "tf.linalg.matmul(tensor,tensor+1\n",
        "                 ) #Actual algebric multiplication of the matrix"
      ],
      "metadata": {
        "colab": {
          "base_uri": "https://localhost:8080/"
        },
        "id": "PD91YS-7HeGF",
        "outputId": "de32ec9d-0e01-486e-bb8a-b205591ec544"
      },
      "execution_count": null,
      "outputs": [
        {
          "output_type": "execute_result",
          "data": {
            "text/plain": [
              "<tf.Tensor: shape=(2, 2), dtype=int64, numpy=\n",
              "array([[ 3,  4],\n",
              "       [11, 16]])>"
            ]
          },
          "metadata": {},
          "execution_count": 124
        }
      ]
    },
    {
      "cell_type": "code",
      "source": [
        "tensor@(tensor+1)   # Multiplication using '@' python operator"
      ],
      "metadata": {
        "colab": {
          "base_uri": "https://localhost:8080/"
        },
        "id": "-KkVdXXfHpCq",
        "outputId": "b49afe92-4ea5-4c01-f0ba-5d74ee42dc36"
      },
      "execution_count": null,
      "outputs": [
        {
          "output_type": "execute_result",
          "data": {
            "text/plain": [
              "<tf.Tensor: shape=(2, 2), dtype=int64, numpy=\n",
              "array([[ 3,  4],\n",
              "       [11, 16]])>"
            ]
          },
          "metadata": {},
          "execution_count": 130
        }
      ]
    },
    {
      "cell_type": "code",
      "source": [
        "tf.matmul(tensor,tensor+1)"
      ],
      "metadata": {
        "colab": {
          "base_uri": "https://localhost:8080/"
        },
        "id": "YtFdDay3Iki4",
        "outputId": "927057f1-629f-4368-c18d-965155acd9cf"
      },
      "execution_count": null,
      "outputs": [
        {
          "output_type": "execute_result",
          "data": {
            "text/plain": [
              "<tf.Tensor: shape=(2, 2), dtype=int64, numpy=\n",
              "array([[ 3,  4],\n",
              "       [11, 16]])>"
            ]
          },
          "metadata": {},
          "execution_count": 131
        }
      ]
    },
    {
      "cell_type": "code",
      "source": [
        "tf.constant(np.random.rand(30),shape=(2,3,5))"
      ],
      "metadata": {
        "colab": {
          "base_uri": "https://localhost:8080/"
        },
        "id": "AbgT0ExdK6Li",
        "outputId": "2e67bf4b-f1f2-4024-f4aa-6424d9513397"
      },
      "execution_count": null,
      "outputs": [
        {
          "output_type": "execute_result",
          "data": {
            "text/plain": [
              "<tf.Tensor: shape=(2, 3, 5), dtype=float64, numpy=\n",
              "array([[[0.25883489, 0.95709992, 0.51217165, 0.92689581, 0.39575534],\n",
              "        [0.49479195, 0.53048461, 0.15018112, 0.20100691, 0.9490452 ],\n",
              "        [0.93445557, 0.92652643, 0.26785989, 0.7236016 , 0.15174042]],\n",
              "\n",
              "       [[0.50712837, 0.66445721, 0.57261744, 0.52762254, 0.96474889],\n",
              "        [0.29345107, 0.18410023, 0.87048621, 0.44495778, 0.23750566],\n",
              "        [0.12137604, 0.71006343, 0.47742607, 0.48993989, 0.6376116 ]]])>"
            ]
          },
          "metadata": {},
          "execution_count": 136
        }
      ]
    },
    {
      "cell_type": "code",
      "source": [
        "T23=tf.constant([[1,2,3],[5,2,1]]);T23"
      ],
      "metadata": {
        "colab": {
          "base_uri": "https://localhost:8080/"
        },
        "id": "VoCGhL1RMV89",
        "outputId": "890146c3-e043-4c8d-a035-5d340a80ed87"
      },
      "execution_count": null,
      "outputs": [
        {
          "output_type": "execute_result",
          "data": {
            "text/plain": [
              "<tf.Tensor: shape=(2, 3), dtype=int32, numpy=\n",
              "array([[1, 2, 3],\n",
              "       [5, 2, 1]], dtype=int32)>"
            ]
          },
          "metadata": {},
          "execution_count": 138
        }
      ]
    },
    {
      "cell_type": "code",
      "source": [],
      "metadata": {
        "id": "izCJVsnxmXhl"
      },
      "execution_count": null,
      "outputs": []
    },
    {
      "cell_type": "markdown",
      "source": [
        "**Using Reshape and transpose we can do matrix multiplication**\n",
        "\n",
        "\n",
        "*   reshape: resuffling\n",
        "*   transpose: revert the axis\n",
        "\n",
        "\n",
        "> Indented block\n",
        "\n"
      ],
      "metadata": {
        "id": "8k6IvKtqmZLU"
      }
    },
    {
      "cell_type": "code",
      "source": [
        "T23@(tf.reshape(T23,shape=(3,2)))"
      ],
      "metadata": {
        "colab": {
          "base_uri": "https://localhost:8080/"
        },
        "id": "LRmbS6JNiv4R",
        "outputId": "99bb4efd-0cb2-4e60-ef7d-654a8643fad5"
      },
      "execution_count": null,
      "outputs": [
        {
          "output_type": "execute_result",
          "data": {
            "text/plain": [
              "<tf.Tensor: shape=(2, 2), dtype=int32, numpy=\n",
              "array([[13, 15],\n",
              "       [13, 21]], dtype=int32)>"
            ]
          },
          "metadata": {},
          "execution_count": 139
        }
      ]
    },
    {
      "cell_type": "code",
      "source": [
        "tf.reshape(T23,shape=(3,2))"
      ],
      "metadata": {
        "colab": {
          "base_uri": "https://localhost:8080/"
        },
        "id": "ECs5M-K0i8MF",
        "outputId": "ed8287ed-f3e9-4d00-b51a-83935e5041c9"
      },
      "execution_count": null,
      "outputs": [
        {
          "output_type": "execute_result",
          "data": {
            "text/plain": [
              "<tf.Tensor: shape=(3, 2), dtype=int32, numpy=\n",
              "array([[1, 2],\n",
              "       [3, 5],\n",
              "       [2, 1]], dtype=int32)>"
            ]
          },
          "metadata": {},
          "execution_count": 140
        }
      ]
    },
    {
      "cell_type": "code",
      "source": [
        "#we also multiply matrix with it transpose\n",
        "T23 @ tf.transpose(T23)"
      ],
      "metadata": {
        "colab": {
          "base_uri": "https://localhost:8080/"
        },
        "id": "Ehf7dbz3jL_i",
        "outputId": "2a970504-ae8b-4513-d8a0-4737f8e8084d"
      },
      "execution_count": null,
      "outputs": [
        {
          "output_type": "execute_result",
          "data": {
            "text/plain": [
              "<tf.Tensor: shape=(2, 2), dtype=int32, numpy=\n",
              "array([[14, 12],\n",
              "       [12, 30]], dtype=int32)>"
            ]
          },
          "metadata": {},
          "execution_count": 141
        }
      ]
    },
    {
      "cell_type": "code",
      "source": [
        "tf.matmul(T23,tf.transpose(T23))"
      ],
      "metadata": {
        "colab": {
          "base_uri": "https://localhost:8080/"
        },
        "id": "99AzUu4Yk77w",
        "outputId": "f472c55a-b3eb-4d60-c061-38617dc6cbe2"
      },
      "execution_count": null,
      "outputs": [
        {
          "output_type": "execute_result",
          "data": {
            "text/plain": [
              "<tf.Tensor: shape=(2, 2), dtype=int32, numpy=\n",
              "array([[14, 12],\n",
              "       [12, 30]], dtype=int32)>"
            ]
          },
          "metadata": {},
          "execution_count": 143
        }
      ]
    },
    {
      "cell_type": "code",
      "source": [
        "tf.tensordot(T23,tf.transpose(T23),axes=1)"
      ],
      "metadata": {
        "colab": {
          "base_uri": "https://localhost:8080/"
        },
        "id": "MbtyUVGTl-ys",
        "outputId": "acf04126-344d-444d-ffb2-650da6a7324b"
      },
      "execution_count": null,
      "outputs": [
        {
          "output_type": "execute_result",
          "data": {
            "text/plain": [
              "<tf.Tensor: shape=(2, 2), dtype=int32, numpy=\n",
              "array([[14, 12],\n",
              "       [12, 30]], dtype=int32)>"
            ]
          },
          "metadata": {},
          "execution_count": 150
        }
      ]
    },
    {
      "cell_type": "markdown",
      "source": [
        "# Changing Data Types of the Tensor\n",
        "tf.cast()"
      ],
      "metadata": {
        "id": "mEsKmRI8wQfo"
      }
    },
    {
      "cell_type": "code",
      "source": [
        "c=tf.constant([1.7,7.4])"
      ],
      "metadata": {
        "id": "ekvm2ss0rg7S"
      },
      "execution_count": null,
      "outputs": []
    },
    {
      "cell_type": "code",
      "source": [
        "c.dtype"
      ],
      "metadata": {
        "colab": {
          "base_uri": "https://localhost:8080/"
        },
        "id": "wKHu1NdywbK2",
        "outputId": "0186c35c-d161-4e8c-edf0-393e3c83e321"
      },
      "execution_count": null,
      "outputs": [
        {
          "output_type": "execute_result",
          "data": {
            "text/plain": [
              "tf.float32"
            ]
          },
          "metadata": {},
          "execution_count": 152
        }
      ]
    },
    {
      "cell_type": "code",
      "source": [
        "c=tf.cast(c,dtype=tf.int32)  #float to integer\n",
        "c"
      ],
      "metadata": {
        "colab": {
          "base_uri": "https://localhost:8080/"
        },
        "id": "Bq6eMCiexBnd",
        "outputId": "0adca489-7ac7-4ce1-887d-318ba6c11626"
      },
      "execution_count": null,
      "outputs": [
        {
          "output_type": "execute_result",
          "data": {
            "text/plain": [
              "<tf.Tensor: shape=(2,), dtype=int32, numpy=array([1, 7], dtype=int32)>"
            ]
          },
          "metadata": {},
          "execution_count": 157
        }
      ]
    },
    {
      "cell_type": "code",
      "source": [
        "c.dtype"
      ],
      "metadata": {
        "colab": {
          "base_uri": "https://localhost:8080/"
        },
        "id": "UeYZJ2JBxhvA",
        "outputId": "557271b7-3f60-4743-a639-f1c1eb867ae3"
      },
      "execution_count": null,
      "outputs": [
        {
          "output_type": "execute_result",
          "data": {
            "text/plain": [
              "tf.int32"
            ]
          },
          "metadata": {},
          "execution_count": 156
        }
      ]
    },
    {
      "cell_type": "code",
      "source": [],
      "metadata": {
        "id": "MCdcjlx1xk1U"
      },
      "execution_count": null,
      "outputs": []
    },
    {
      "cell_type": "markdown",
      "source": [
        "# Finding the min, max, mean, sum (aggregation)\n",
        "You can quickly aggregate (perform a calculation on a whole tensor) tensors to find things like the minimum value, maximum value, mean and sum of all the elements.\n",
        "\n",
        "To do so, aggregation methods typically have the syntax reduce()_[action], such as:\n",
        "\n",
        "\n",
        "*   tf.reduce_min() - find the minimum value in a tensor.\n",
        "*   tf.reduce_max() - find the maximum value in a tensor (helpful for when you want to find the highest prediction probability).\n",
        "*   tf.reduce_mean() - find the mean of all elements in a tensor.\n",
        "*   tf.reduce_sum() - find the sum of all elements in a tensor.\n",
        "\n",
        "\n",
        "\n",
        "\n",
        "\n",
        "\n",
        "\n",
        "*   Note: typically, each of these is under the math module, e.g. tf.math.reduce_min() but you can use the alias tf.reduce_min()."
      ],
      "metadata": {
        "id": "yZE9kNE5ymTD"
      }
    },
    {
      "cell_type": "code",
      "source": [
        "tensor2=tf.constant(np.random.randint(1,1000,50),shape=(2,5,5))\n",
        "tensor2"
      ],
      "metadata": {
        "colab": {
          "base_uri": "https://localhost:8080/"
        },
        "id": "mYKWjNAtynkb",
        "outputId": "f1bac909-6b64-4b6e-ba3b-04ad63ed550b"
      },
      "execution_count": null,
      "outputs": [
        {
          "output_type": "execute_result",
          "data": {
            "text/plain": [
              "<tf.Tensor: shape=(2, 5, 5), dtype=int64, numpy=\n",
              "array([[[  7, 766, 160, 611,  37],\n",
              "        [907, 521, 340,  70, 619],\n",
              "        [565, 719, 932, 138, 404],\n",
              "        [816, 256, 199, 260, 763],\n",
              "        [864, 221, 728, 892, 902]],\n",
              "\n",
              "       [[995, 414, 116, 961, 156],\n",
              "        [976, 399, 358, 669, 448],\n",
              "        [299, 153,  76, 408, 911],\n",
              "        [158, 486, 109,  52, 544],\n",
              "        [880, 840, 937,  71, 619]]])>"
            ]
          },
          "metadata": {},
          "execution_count": 161
        }
      ]
    },
    {
      "cell_type": "code",
      "source": [
        "#find minimum\n",
        "tf.reduce_min(tensor2)"
      ],
      "metadata": {
        "colab": {
          "base_uri": "https://localhost:8080/"
        },
        "id": "rZiR0gtuz4Pz",
        "outputId": "26bbace6-4aa3-4bd9-9815-02ba617b8ffc"
      },
      "execution_count": null,
      "outputs": [
        {
          "output_type": "execute_result",
          "data": {
            "text/plain": [
              "<tf.Tensor: shape=(), dtype=int64, numpy=7>"
            ]
          },
          "metadata": {},
          "execution_count": 166
        }
      ]
    },
    {
      "cell_type": "code",
      "source": [
        "#find maximum\n",
        "tf.reduce_max(tensor2)"
      ],
      "metadata": {
        "colab": {
          "base_uri": "https://localhost:8080/"
        },
        "id": "EBOQJzQV0Mww",
        "outputId": "7184277c-c379-4099-f90d-ebc51a60dd63"
      },
      "execution_count": null,
      "outputs": [
        {
          "output_type": "execute_result",
          "data": {
            "text/plain": [
              "<tf.Tensor: shape=(), dtype=int64, numpy=995>"
            ]
          },
          "metadata": {},
          "execution_count": 163
        }
      ]
    },
    {
      "cell_type": "code",
      "source": [
        "#find the mean\n",
        "tf.reduce_mean(tensor2)"
      ],
      "metadata": {
        "colab": {
          "base_uri": "https://localhost:8080/"
        },
        "id": "tzPXGsBD0RyM",
        "outputId": "fa2da42c-cddd-44ec-d97a-30ddb4aa09f8"
      },
      "execution_count": null,
      "outputs": [
        {
          "output_type": "execute_result",
          "data": {
            "text/plain": [
              "<tf.Tensor: shape=(), dtype=int64, numpy=494>"
            ]
          },
          "metadata": {},
          "execution_count": 167
        }
      ]
    },
    {
      "cell_type": "code",
      "source": [
        "#find the sum\n",
        "tf.reduce_sum(tensor2)"
      ],
      "metadata": {
        "colab": {
          "base_uri": "https://localhost:8080/"
        },
        "id": "Ipprz1Ob0fkw",
        "outputId": "fa704022-0c53-4578-b944-34e9cb7ecb14"
      },
      "execution_count": null,
      "outputs": [
        {
          "output_type": "execute_result",
          "data": {
            "text/plain": [
              "<tf.Tensor: shape=(), dtype=int64, numpy=24732>"
            ]
          },
          "metadata": {},
          "execution_count": 168
        }
      ]
    },
    {
      "cell_type": "code",
      "source": [],
      "metadata": {
        "id": "KcHsXio80_tP"
      },
      "execution_count": null,
      "outputs": []
    },
    {
      "cell_type": "markdown",
      "source": [
        "# inding the positional maximum and minimum\n",
        "**How about finding the position a tensor where the maximum value occurs?**\n",
        "\n",
        "This is helpful when you want to line up your labels (say ['Green', 'Blue', 'Red']) with your prediction probabilities tensor (e.g. [0.98, 0.01, 0.01]).\n",
        "\n",
        "\n",
        "In this case, the predicted label (the one with the highest prediction probability) would be 'Green'.\n",
        "\n",
        "You can do the same for the minimum (if required) with the following:\n",
        "\n",
        "\n",
        "*   tf.argmax() - find the position of the maximum element in a given tensor.\n",
        "*   tf.argmin() - find the position of the minimum element in a given tensor.\n",
        "\n"
      ],
      "metadata": {
        "id": "di8dEfB31MDG"
      }
    },
    {
      "cell_type": "code",
      "source": [
        "tensor3=tf.constant(np.random.rand(50))\n",
        "tensor3"
      ],
      "metadata": {
        "colab": {
          "base_uri": "https://localhost:8080/"
        },
        "id": "5WOL18Y01W_t",
        "outputId": "287850f6-70cb-40d5-c493-16d458b85bc5"
      },
      "execution_count": null,
      "outputs": [
        {
          "output_type": "execute_result",
          "data": {
            "text/plain": [
              "<tf.Tensor: shape=(50,), dtype=float64, numpy=\n",
              "array([0.2864895 , 0.11511826, 0.38117876, 0.51433159, 0.70190674,\n",
              "       0.17674496, 0.1794116 , 0.55475927, 0.79997975, 0.10981206,\n",
              "       0.05893322, 0.42030853, 0.46364089, 0.39655759, 0.84741499,\n",
              "       0.07743043, 0.02320127, 0.97435961, 0.88274277, 0.63670451,\n",
              "       0.95144208, 0.11671332, 0.89924412, 0.62617022, 0.13797457,\n",
              "       0.83793721, 0.02348565, 0.65752303, 0.31064961, 0.04230873,\n",
              "       0.62618716, 0.69646436, 0.39517   , 0.35496944, 0.0776583 ,\n",
              "       0.84431254, 0.11208437, 0.43208482, 0.71257204, 0.07414575,\n",
              "       0.27155482, 0.40959011, 0.73303682, 0.81114362, 0.23436186,\n",
              "       0.14525713, 0.67601036, 0.83036873, 0.05640715, 0.11983322])>"
            ]
          },
          "metadata": {},
          "execution_count": 174
        }
      ]
    },
    {
      "cell_type": "code",
      "source": [
        "#find the maximum number position in the tensor3\n",
        "tf.argmax(tensor3)"
      ],
      "metadata": {
        "colab": {
          "base_uri": "https://localhost:8080/"
        },
        "id": "pdD10RQn1pMw",
        "outputId": "63a71369-9b47-4b29-8b07-43d3d6d2f7c6"
      },
      "execution_count": null,
      "outputs": [
        {
          "output_type": "execute_result",
          "data": {
            "text/plain": [
              "<tf.Tensor: shape=(), dtype=int64, numpy=17>"
            ]
          },
          "metadata": {},
          "execution_count": 175
        }
      ]
    },
    {
      "cell_type": "code",
      "source": [
        "tf.argmin(tensor3)"
      ],
      "metadata": {
        "colab": {
          "base_uri": "https://localhost:8080/"
        },
        "id": "872-SlLk2TzL",
        "outputId": "9096beaa-040a-4fda-eed9-86fa79a34051"
      },
      "execution_count": null,
      "outputs": [
        {
          "output_type": "execute_result",
          "data": {
            "text/plain": [
              "<tf.Tensor: shape=(), dtype=int64, numpy=16>"
            ]
          },
          "metadata": {},
          "execution_count": 176
        }
      ]
    },
    {
      "cell_type": "code",
      "source": [],
      "metadata": {
        "id": "60eZR6g22Waf"
      },
      "execution_count": null,
      "outputs": []
    },
    {
      "cell_type": "markdown",
      "source": [
        "## Squeezing the Tensor (Removing all the single dimentions)\n",
        "If you need to remove single-dimensions from a tensor (dimensions with size 1), you can use tf.squeeze().\n",
        "\n"
      ],
      "metadata": {
        "id": "44seDa7n2qx1"
      }
    },
    {
      "cell_type": "code",
      "source": [
        "tensor_squeez=tf.constant(np.random.randint(1,10,20),shape=(1,1,1,1,20))\n",
        "tensor_squeez"
      ],
      "metadata": {
        "colab": {
          "base_uri": "https://localhost:8080/"
        },
        "id": "YxyPkOMn358N",
        "outputId": "2e323cc8-f3cc-4d2d-f4c5-3cfe8f00dc60"
      },
      "execution_count": null,
      "outputs": [
        {
          "output_type": "execute_result",
          "data": {
            "text/plain": [
              "<tf.Tensor: shape=(1, 1, 1, 1, 20), dtype=int64, numpy=array([[[[[9, 2, 6, 7, 6, 6, 8, 4, 4, 2, 7, 5, 3, 2, 2, 9, 1, 9, 5, 2]]]]])>"
            ]
          },
          "metadata": {},
          "execution_count": 183
        }
      ]
    },
    {
      "cell_type": "code",
      "source": [
        "\n",
        "tf.squeeze(tensor_squeez)"
      ],
      "metadata": {
        "colab": {
          "base_uri": "https://localhost:8080/"
        },
        "id": "zcT4boOA2yer",
        "outputId": "168d8636-27bf-463c-a9a7-b1a139bd7bee"
      },
      "execution_count": null,
      "outputs": [
        {
          "output_type": "execute_result",
          "data": {
            "text/plain": [
              "<tf.Tensor: shape=(20,), dtype=int64, numpy=array([4, 9, 9, 9, 4, 6, 8, 5, 7, 3, 1, 2, 2, 7, 3, 3, 3, 5, 9, 5])>"
            ]
          },
          "metadata": {},
          "execution_count": 182
        }
      ]
    },
    {
      "cell_type": "markdown",
      "source": [
        "## **One Hot Encoding**\n",
        "If you have a tensor of indicies and would like to one-hot encode it, you can use tf.one_hot().\n",
        "\n",
        "You should also specify the depth parameter (the level which you want to one-hot encode to)."
      ],
      "metadata": {
        "id": "fBqdivP14soN"
      }
    },
    {
      "cell_type": "code",
      "source": [
        "friends=[1,2,3,4]\n",
        "#one hot encode them\n",
        "tf.one_hot(friends,depth=4)"
      ],
      "metadata": {
        "colab": {
          "base_uri": "https://localhost:8080/"
        },
        "id": "YmJoGtTy4WRf",
        "outputId": "dee23536-1e73-4614-d013-0c6600ece0c4"
      },
      "execution_count": null,
      "outputs": [
        {
          "output_type": "execute_result",
          "data": {
            "text/plain": [
              "<tf.Tensor: shape=(4, 4), dtype=float32, numpy=\n",
              "array([[0., 1., 0., 0.],\n",
              "       [0., 0., 1., 0.],\n",
              "       [0., 0., 0., 1.],\n",
              "       [0., 0., 0., 0.]], dtype=float32)>"
            ]
          },
          "metadata": {},
          "execution_count": 187
        }
      ]
    },
    {
      "cell_type": "code",
      "source": [
        "# Specify custom values for on and off encoding\n",
        "tf.one_hot(friends, depth=4, on_value=\"kinu\", off_value=\"pinu\")"
      ],
      "metadata": {
        "colab": {
          "base_uri": "https://localhost:8080/"
        },
        "id": "EuEunG6X5xp4",
        "outputId": "ec073f5b-e0f3-48ad-f55f-3ba004221807"
      },
      "execution_count": null,
      "outputs": [
        {
          "output_type": "execute_result",
          "data": {
            "text/plain": [
              "<tf.Tensor: shape=(4, 4), dtype=string, numpy=\n",
              "array([[b'pinu', b'kinu', b'pinu', b'pinu'],\n",
              "       [b'pinu', b'pinu', b'kinu', b'pinu'],\n",
              "       [b'pinu', b'pinu', b'pinu', b'kinu'],\n",
              "       [b'pinu', b'pinu', b'pinu', b'pinu']], dtype=object)>"
            ]
          },
          "metadata": {},
          "execution_count": 189
        }
      ]
    },
    {
      "cell_type": "markdown",
      "source": [
        "## **Squaring, log, square root**\n",
        "Many other common mathematical operations you'd like to perform at some stage, probably exist.\n",
        "\n",
        "Let's take a look at:\n",
        "\n",
        "\n",
        "* **tf.square()** - get the square of every value in a tensor.\n",
        "* **tf.sqrt()** - get the squareroot of every value in a tensor (note: the elements need to be floats or this will error).\n",
        "* **tf.math.log()** - get the natural log of every value in a tensor (elements need to floats)\n",
        "\n"
      ],
      "metadata": {
        "id": "fwM7aeZv64kX"
      }
    },
    {
      "cell_type": "code",
      "source": [
        "H=tf.constant(np.arange(1,10))\n"
      ],
      "metadata": {
        "id": "9L_eGz756gjd"
      },
      "execution_count": null,
      "outputs": []
    },
    {
      "cell_type": "code",
      "source": [
        "#Square it\n",
        "tf.square(H)"
      ],
      "metadata": {
        "colab": {
          "base_uri": "https://localhost:8080/"
        },
        "id": "kmxLNPss7UBE",
        "outputId": "ade5b067-cd87-4046-ea14-d82ac503edb4"
      },
      "execution_count": null,
      "outputs": [
        {
          "output_type": "execute_result",
          "data": {
            "text/plain": [
              "<tf.Tensor: shape=(9,), dtype=int64, numpy=array([ 1,  4,  9, 16, 25, 36, 49, 64, 81])>"
            ]
          },
          "metadata": {},
          "execution_count": 199
        }
      ]
    },
    {
      "cell_type": "code",
      "source": [
        "#Square root of it\n",
        "tf.sqrt(H)"
      ],
      "metadata": {
        "colab": {
          "base_uri": "https://localhost:8080/",
          "height": 442
        },
        "id": "_osOmk6_7XHp",
        "outputId": "11eb7311-9514-4374-c058-603a77baa473"
      },
      "execution_count": null,
      "outputs": [
        {
          "output_type": "error",
          "ename": "InvalidArgumentError",
          "evalue": "Value for attr 'T' of int64 is not in the list of allowed values: bfloat16, half, float, double, complex64, complex128\n\t; NodeDef: {{node Sqrt}}; Op<name=Sqrt; signature=x:T -> y:T; attr=T:type,allowed=[DT_BFLOAT16, DT_HALF, DT_FLOAT, DT_DOUBLE, DT_COMPLEX64, DT_COMPLEX128]> [Op:Sqrt] name: ",
          "traceback": [
            "\u001b[0;31m---------------------------------------------------------------------------\u001b[0m",
            "\u001b[0;31mInvalidArgumentError\u001b[0m                      Traceback (most recent call last)",
            "\u001b[0;32m<ipython-input-196-277f1a87c77d>\u001b[0m in \u001b[0;36m<cell line: 2>\u001b[0;34m()\u001b[0m\n\u001b[1;32m      1\u001b[0m \u001b[0;31m#Square root of it\u001b[0m\u001b[0;34m\u001b[0m\u001b[0;34m\u001b[0m\u001b[0m\n\u001b[0;32m----> 2\u001b[0;31m \u001b[0mtf\u001b[0m\u001b[0;34m.\u001b[0m\u001b[0msqrt\u001b[0m\u001b[0;34m(\u001b[0m\u001b[0mH\u001b[0m\u001b[0;34m)\u001b[0m\u001b[0;34m\u001b[0m\u001b[0;34m\u001b[0m\u001b[0m\n\u001b[0m",
            "\u001b[0;32m/usr/local/lib/python3.10/dist-packages/tensorflow/python/ops/weak_tensor_ops.py\u001b[0m in \u001b[0;36mwrapper\u001b[0;34m(*args, **kwargs)\u001b[0m\n\u001b[1;32m     86\u001b[0m   \u001b[0;32mdef\u001b[0m \u001b[0mwrapper\u001b[0m\u001b[0;34m(\u001b[0m\u001b[0;34m*\u001b[0m\u001b[0margs\u001b[0m\u001b[0;34m,\u001b[0m \u001b[0;34m**\u001b[0m\u001b[0mkwargs\u001b[0m\u001b[0;34m)\u001b[0m\u001b[0;34m:\u001b[0m\u001b[0;34m\u001b[0m\u001b[0;34m\u001b[0m\u001b[0m\n\u001b[1;32m     87\u001b[0m     \u001b[0;32mif\u001b[0m \u001b[0;32mnot\u001b[0m \u001b[0mops\u001b[0m\u001b[0;34m.\u001b[0m\u001b[0mis_auto_dtype_conversion_enabled\u001b[0m\u001b[0;34m(\u001b[0m\u001b[0;34m)\u001b[0m\u001b[0;34m:\u001b[0m\u001b[0;34m\u001b[0m\u001b[0;34m\u001b[0m\u001b[0m\n\u001b[0;32m---> 88\u001b[0;31m       \u001b[0;32mreturn\u001b[0m \u001b[0mop\u001b[0m\u001b[0;34m(\u001b[0m\u001b[0;34m*\u001b[0m\u001b[0margs\u001b[0m\u001b[0;34m,\u001b[0m \u001b[0;34m**\u001b[0m\u001b[0mkwargs\u001b[0m\u001b[0;34m)\u001b[0m\u001b[0;34m\u001b[0m\u001b[0;34m\u001b[0m\u001b[0m\n\u001b[0m\u001b[1;32m     89\u001b[0m     \u001b[0mbound_arguments\u001b[0m \u001b[0;34m=\u001b[0m \u001b[0msignature\u001b[0m\u001b[0;34m.\u001b[0m\u001b[0mbind\u001b[0m\u001b[0;34m(\u001b[0m\u001b[0;34m*\u001b[0m\u001b[0margs\u001b[0m\u001b[0;34m,\u001b[0m \u001b[0;34m**\u001b[0m\u001b[0mkwargs\u001b[0m\u001b[0;34m)\u001b[0m\u001b[0;34m\u001b[0m\u001b[0;34m\u001b[0m\u001b[0m\n\u001b[1;32m     90\u001b[0m     \u001b[0mbound_arguments\u001b[0m\u001b[0;34m.\u001b[0m\u001b[0mapply_defaults\u001b[0m\u001b[0;34m(\u001b[0m\u001b[0;34m)\u001b[0m\u001b[0;34m\u001b[0m\u001b[0;34m\u001b[0m\u001b[0m\n",
            "\u001b[0;32m/usr/local/lib/python3.10/dist-packages/tensorflow/python/util/traceback_utils.py\u001b[0m in \u001b[0;36merror_handler\u001b[0;34m(*args, **kwargs)\u001b[0m\n\u001b[1;32m    151\u001b[0m     \u001b[0;32mexcept\u001b[0m \u001b[0mException\u001b[0m \u001b[0;32mas\u001b[0m \u001b[0me\u001b[0m\u001b[0;34m:\u001b[0m\u001b[0;34m\u001b[0m\u001b[0;34m\u001b[0m\u001b[0m\n\u001b[1;32m    152\u001b[0m       \u001b[0mfiltered_tb\u001b[0m \u001b[0;34m=\u001b[0m \u001b[0m_process_traceback_frames\u001b[0m\u001b[0;34m(\u001b[0m\u001b[0me\u001b[0m\u001b[0;34m.\u001b[0m\u001b[0m__traceback__\u001b[0m\u001b[0;34m)\u001b[0m\u001b[0;34m\u001b[0m\u001b[0;34m\u001b[0m\u001b[0m\n\u001b[0;32m--> 153\u001b[0;31m       \u001b[0;32mraise\u001b[0m \u001b[0me\u001b[0m\u001b[0;34m.\u001b[0m\u001b[0mwith_traceback\u001b[0m\u001b[0;34m(\u001b[0m\u001b[0mfiltered_tb\u001b[0m\u001b[0;34m)\u001b[0m \u001b[0;32mfrom\u001b[0m \u001b[0;32mNone\u001b[0m\u001b[0;34m\u001b[0m\u001b[0;34m\u001b[0m\u001b[0m\n\u001b[0m\u001b[1;32m    154\u001b[0m     \u001b[0;32mfinally\u001b[0m\u001b[0;34m:\u001b[0m\u001b[0;34m\u001b[0m\u001b[0;34m\u001b[0m\u001b[0m\n\u001b[1;32m    155\u001b[0m       \u001b[0;32mdel\u001b[0m \u001b[0mfiltered_tb\u001b[0m\u001b[0;34m\u001b[0m\u001b[0;34m\u001b[0m\u001b[0m\n",
            "\u001b[0;32m/usr/local/lib/python3.10/dist-packages/tensorflow/python/framework/ops.py\u001b[0m in \u001b[0;36mraise_from_not_ok_status\u001b[0;34m(e, name)\u001b[0m\n\u001b[1;32m   5881\u001b[0m \u001b[0;32mdef\u001b[0m \u001b[0mraise_from_not_ok_status\u001b[0m\u001b[0;34m(\u001b[0m\u001b[0me\u001b[0m\u001b[0;34m,\u001b[0m \u001b[0mname\u001b[0m\u001b[0;34m)\u001b[0m \u001b[0;34m->\u001b[0m \u001b[0mNoReturn\u001b[0m\u001b[0;34m:\u001b[0m\u001b[0;34m\u001b[0m\u001b[0;34m\u001b[0m\u001b[0m\n\u001b[1;32m   5882\u001b[0m   \u001b[0me\u001b[0m\u001b[0;34m.\u001b[0m\u001b[0mmessage\u001b[0m \u001b[0;34m+=\u001b[0m \u001b[0;34m(\u001b[0m\u001b[0;34m\" name: \"\u001b[0m \u001b[0;34m+\u001b[0m \u001b[0mstr\u001b[0m\u001b[0;34m(\u001b[0m\u001b[0mname\u001b[0m \u001b[0;32mif\u001b[0m \u001b[0mname\u001b[0m \u001b[0;32mis\u001b[0m \u001b[0;32mnot\u001b[0m \u001b[0;32mNone\u001b[0m \u001b[0;32melse\u001b[0m \u001b[0;34m\"\"\u001b[0m\u001b[0;34m)\u001b[0m\u001b[0;34m)\u001b[0m\u001b[0;34m\u001b[0m\u001b[0;34m\u001b[0m\u001b[0m\n\u001b[0;32m-> 5883\u001b[0;31m   \u001b[0;32mraise\u001b[0m \u001b[0mcore\u001b[0m\u001b[0;34m.\u001b[0m\u001b[0m_status_to_exception\u001b[0m\u001b[0;34m(\u001b[0m\u001b[0me\u001b[0m\u001b[0;34m)\u001b[0m \u001b[0;32mfrom\u001b[0m \u001b[0;32mNone\u001b[0m  \u001b[0;31m# pylint: disable=protected-access\u001b[0m\u001b[0;34m\u001b[0m\u001b[0;34m\u001b[0m\u001b[0m\n\u001b[0m\u001b[1;32m   5884\u001b[0m \u001b[0;34m\u001b[0m\u001b[0m\n\u001b[1;32m   5885\u001b[0m \u001b[0;34m\u001b[0m\u001b[0m\n",
            "\u001b[0;31mInvalidArgumentError\u001b[0m: Value for attr 'T' of int64 is not in the list of allowed values: bfloat16, half, float, double, complex64, complex128\n\t; NodeDef: {{node Sqrt}}; Op<name=Sqrt; signature=x:T -> y:T; attr=T:type,allowed=[DT_BFLOAT16, DT_HALF, DT_FLOAT, DT_DOUBLE, DT_COMPLEX64, DT_COMPLEX128]> [Op:Sqrt] name: "
          ]
        }
      ]
    },
    {
      "cell_type": "code",
      "source": [
        "H=tf.cast(H,dtype='float')\n",
        "#Square root of it\n",
        "tf.sqrt(H)"
      ],
      "metadata": {
        "colab": {
          "base_uri": "https://localhost:8080/"
        },
        "id": "T0Y7O8iQ7hda",
        "outputId": "97c23706-c9b1-48d2-d5e7-cbd012b2da6c"
      },
      "execution_count": null,
      "outputs": [
        {
          "output_type": "execute_result",
          "data": {
            "text/plain": [
              "<tf.Tensor: shape=(9,), dtype=float32, numpy=\n",
              "array([1.       , 1.4142135, 1.7320508, 2.       , 2.236068 , 2.4494898,\n",
              "       2.6457512, 2.828427 , 3.       ], dtype=float32)>"
            ]
          },
          "metadata": {},
          "execution_count": 201
        }
      ]
    },
    {
      "cell_type": "code",
      "source": [
        "#finding the log\n",
        "tf.math.log(H)"
      ],
      "metadata": {
        "colab": {
          "base_uri": "https://localhost:8080/"
        },
        "id": "ffuIOME68D-Q",
        "outputId": "a844a812-f80b-40a4-d877-9c69751c8d11"
      },
      "execution_count": null,
      "outputs": [
        {
          "output_type": "execute_result",
          "data": {
            "text/plain": [
              "<tf.Tensor: shape=(9,), dtype=float32, numpy=\n",
              "array([0.       , 0.6931472, 1.0986123, 1.3862944, 1.609438 , 1.7917595,\n",
              "       1.9459102, 2.0794415, 2.1972246], dtype=float32)>"
            ]
          },
          "metadata": {},
          "execution_count": 203
        }
      ]
    },
    {
      "cell_type": "code",
      "source": [],
      "metadata": {
        "id": "CNYK6bwa91ZB"
      },
      "execution_count": null,
      "outputs": []
    },
    {
      "cell_type": "markdown",
      "source": [
        "# **Manipulating tf.varible()**"
      ],
      "metadata": {
        "id": "7y15ubTn-cwI"
      }
    },
    {
      "cell_type": "markdown",
      "source": [
        "Tensors created with tf.Variable() can be changed in place using methods such as:\n",
        "\n",
        "\n",
        "*   .assign() - assign a different value to a particular index of a variable tensor.\n",
        "*  .add_assign() - add to an existing value and reassign it at a particular index of a variable tensor.\n",
        "\n",
        "\n"
      ],
      "metadata": {
        "id": "DfoSTfiV-op6"
      }
    },
    {
      "cell_type": "code",
      "source": [
        "T_=tf.Variable(np.arange(1,6,1));\n",
        "T_\n"
      ],
      "metadata": {
        "colab": {
          "base_uri": "https://localhost:8080/"
        },
        "id": "Bu-b5dHy-kS_",
        "outputId": "e66c7517-a7df-4323-b050-34a77fbd7485"
      },
      "execution_count": null,
      "outputs": [
        {
          "output_type": "execute_result",
          "data": {
            "text/plain": [
              "<tf.Variable 'Variable:0' shape=(5,) dtype=int64, numpy=array([1, 2, 3, 4, 5])>"
            ]
          },
          "metadata": {},
          "execution_count": 212
        }
      ]
    },
    {
      "cell_type": "code",
      "source": [
        "T_[0].assign(50)"
      ],
      "metadata": {
        "colab": {
          "base_uri": "https://localhost:8080/"
        },
        "id": "RwVTnxc0_WyH",
        "outputId": "8d9e7fe1-d978-40bd-9c85-37c8d5d55b0e"
      },
      "execution_count": null,
      "outputs": [
        {
          "output_type": "execute_result",
          "data": {
            "text/plain": [
              "<tf.Variable 'UnreadVariable' shape=(5,) dtype=int64, numpy=array([50,  2,  3,  4,  5])>"
            ]
          },
          "metadata": {},
          "execution_count": 217
        }
      ]
    },
    {
      "cell_type": "code",
      "source": [
        "T_.assign([0,0,0,0,0])\n",
        "T_"
      ],
      "metadata": {
        "colab": {
          "base_uri": "https://localhost:8080/"
        },
        "id": "aQU44FZh_rPb",
        "outputId": "d7bb0d95-ddae-4196-a661-e59252f3c403"
      },
      "execution_count": null,
      "outputs": [
        {
          "output_type": "execute_result",
          "data": {
            "text/plain": [
              "<tf.Variable 'Variable:0' shape=(5,) dtype=int64, numpy=array([0, 0, 0, 0, 0])>"
            ]
          },
          "metadata": {},
          "execution_count": 221
        }
      ]
    },
    {
      "cell_type": "code",
      "source": [
        "T_.assign_add([1,10,10,100,1000]) #it assign as well as add"
      ],
      "metadata": {
        "colab": {
          "base_uri": "https://localhost:8080/"
        },
        "id": "IsngBarxAQ85",
        "outputId": "02ca3a01-8baf-49b2-f782-78adced174c5"
      },
      "execution_count": null,
      "outputs": [
        {
          "output_type": "execute_result",
          "data": {
            "text/plain": [
              "<tf.Variable 'UnreadVariable' shape=(5,) dtype=int64, numpy=array([   1,   10,   10,  100, 1000])>"
            ]
          },
          "metadata": {},
          "execution_count": 223
        }
      ]
    },
    {
      "cell_type": "code",
      "source": [],
      "metadata": {
        "id": "UnsrfkcRA0H_"
      },
      "execution_count": null,
      "outputs": []
    },
    {
      "cell_type": "markdown",
      "source": [
        "# Tensors and Numpy\n",
        "We've seen some examples of tensors interact with NumPy arrays, such as, using NumPy arrays to create tensors.\n",
        "\n",
        "Tensors can also be converted to NumPy arrays using:\n",
        "\n",
        "\n",
        "\n",
        "\n",
        "*   np.array() - pass a tensor to convert to an ndarray (NumPy's main datatype).\n",
        "*   tensor.numpy() - call on a tensor to\n",
        "convert to an ndarray.\n",
        "\n",
        "\n",
        "Doing this is helpful as it makes tensors iterable as well as allows us to use any of NumPy's methods on them."
      ],
      "metadata": {
        "id": "dcCkt7XCBDU3"
      }
    },
    {
      "cell_type": "code",
      "source": [
        "Array=np.array(T_)   #convert tensor to array\n",
        "print('Type of Array',type(Array))"
      ],
      "metadata": {
        "colab": {
          "base_uri": "https://localhost:8080/"
        },
        "id": "BXjbXf9kBKTN",
        "outputId": "81a8b9b9-7889-4aeb-ea21-ad746cb60c94"
      },
      "execution_count": null,
      "outputs": [
        {
          "output_type": "stream",
          "name": "stdout",
          "text": [
            "Type of Array <class 'numpy.ndarray'>\n"
          ]
        }
      ]
    },
    {
      "cell_type": "code",
      "source": [],
      "metadata": {
        "id": "VShzNUvBCgjH"
      },
      "execution_count": null,
      "outputs": []
    },
    {
      "cell_type": "markdown",
      "source": [
        "# Using @tf.function\n",
        "In your TensorFlow adventures, you might come across Python functions which have the decorator  @tf.function.\n",
        "\n",
        "If you aren't sure what Python decorators do, read RealPython's guide on them.\n",
        "\n",
        "But in short, decorators modify a function in one way or another.\n",
        "\n",
        "In the @tf.function decorator case, it turns a Python function into a callable TensorFlow graph. Which is a fancy way of saying, if you've written your own Python function, and you decorate it with @tf.function, when you export your code (to potentially run on another device), TensorFlow will attempt to convert it into a fast(er) version of itself (by making it part of a computation graph).\n",
        "\n",
        "For more on this, read the Better performnace with tf.function guide."
      ],
      "metadata": {
        "id": "-Az06XEtDMi5"
      }
    },
    {
      "cell_type": "code",
      "source": [
        "\n",
        "\n",
        "def function(x, y):\n",
        "  return x ** 2 + y\n",
        "\n",
        "x = tf.constant(np.arange(0, 10))\n",
        "y = tf.constant(np.arange(10, 20))\n",
        "\n",
        "function(x, y)\n"
      ],
      "metadata": {
        "colab": {
          "base_uri": "https://localhost:8080/"
        },
        "id": "zK-dWSnkDRTX",
        "outputId": "4c657b89-4c69-46ef-dcf1-0b39df899ea3"
      },
      "execution_count": null,
      "outputs": [
        {
          "output_type": "execute_result",
          "data": {
            "text/plain": [
              "<tf.Tensor: shape=(10,), dtype=int64, numpy=array([ 10,  12,  16,  22,  30,  40,  52,  66,  82, 100])>"
            ]
          },
          "metadata": {},
          "execution_count": 235
        }
      ]
    },
    {
      "cell_type": "code",
      "source": [
        "# Create the same function and decorate it with tf.function\n",
        "@tf.function\n",
        "def tf_function(x, y):\n",
        "  return x ** 2 + y\n",
        "\n",
        "tf_function(x, y)"
      ],
      "metadata": {
        "colab": {
          "base_uri": "https://localhost:8080/"
        },
        "id": "iAiS2-QfDuMi",
        "outputId": "dd9b5317-ad3a-4321-954a-5f66fca135ea"
      },
      "execution_count": null,
      "outputs": [
        {
          "output_type": "execute_result",
          "data": {
            "text/plain": [
              "<tf.Tensor: shape=(10,), dtype=int64, numpy=array([ 10,  12,  16,  22,  30,  40,  52,  66,  82, 100])>"
            ]
          },
          "metadata": {},
          "execution_count": 234
        }
      ]
    },
    {
      "cell_type": "code",
      "source": [],
      "metadata": {
        "id": "ESozNjweFgYe"
      },
      "execution_count": null,
      "outputs": []
    }
  ]
}